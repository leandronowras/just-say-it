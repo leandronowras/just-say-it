{
 "cells": [
  {
   "cell_type": "code",
   "execution_count": 3,
   "metadata": {},
   "outputs": [
    {
     "name": "stdout",
     "output_type": "stream",
     "text": [
      "(1, 'Super Man', 'Forca')\n"
     ]
    }
   ],
   "source": [
    "import sqlite3\n",
    "from sqlite3 import Error\n",
    "\n",
    "# Criando a conexao e a tabelo no banco de dados\n",
    "def sql_connection():\n",
    "  try:\n",
    "    con = sqlite3.connect('mydatabase.db')\n",
    "    return con\n",
    "  except Error:\n",
    "    print(Error)\n",
    "\n",
    "def sql_table(con):\n",
    "  cursor = con.cursor()\n",
    "  cursor.execute(\"CREATE TABLE if not exists herois(id integer PRIMARY KEY NOT NULL, nome text NOT NULL, super_poder text)\")\n",
    "  con.commit()\n",
    "\n",
    "con = sql_connection()\n",
    "sql_table(con)\n",
    "\n",
    "# # Inserindo dados\n",
    "# def sql_insert(con, entities):\n",
    "#   cursor = con.cursor()\n",
    "#   cursor.execute(\"INSERT INTO herois (id, nome, super_poder) values(?, ?, ?)\", entities)\n",
    "#   con.commit()\n",
    "\n",
    "# entities = (1, 'Super Man', 'Forca')\n",
    "\n",
    "# sql_insert(con, entities)\n",
    "\n",
    "# consultando registros\n",
    "def sql_fetch(con):\n",
    "    cursor = con.cursor()\n",
    "    cursor.execute('SELECT * FROM herois')\n",
    "    rows = cursor.fetchall()\n",
    "    for row in rows:\n",
    "        print(row)\n",
    "\n",
    "sql_fetch(con)"
   ]
  },
  {
   "cell_type": "code",
   "execution_count": 9,
   "metadata": {},
   "outputs": [
    {
     "name": "stdout",
     "output_type": "stream",
     "text": [
      "(1, 'Super Man', 'Forca')\n",
      "(2, 'batman', 'dinheiro')\n"
     ]
    }
   ],
   "source": [
    "def sql_connection():\n",
    "  try:\n",
    "    con = sqlite3.connect('mydatabase.db')\n",
    "    return con\n",
    "  except Error:\n",
    "    print(Error)\n",
    "    \n",
    "def sql_fetch(con):\n",
    "    cursor = con.cursor()\n",
    "    cursor.execute('SELECT * FROM herois')\n",
    "    rows = cursor.fetchall()\n",
    "    for row in rows:\n",
    "        print(row)\n",
    "\n",
    "sql_fetch(con)"
   ]
  },
  {
   "cell_type": "code",
   "execution_count": 10,
   "metadata": {},
   "outputs": [
    {
     "data": {
      "text/html": [
       "<div>\n",
       "<style scoped>\n",
       "    .dataframe tbody tr th:only-of-type {\n",
       "        vertical-align: middle;\n",
       "    }\n",
       "\n",
       "    .dataframe tbody tr th {\n",
       "        vertical-align: top;\n",
       "    }\n",
       "\n",
       "    .dataframe thead th {\n",
       "        text-align: right;\n",
       "    }\n",
       "</style>\n",
       "<table border=\"1\" class=\"dataframe\">\n",
       "  <thead>\n",
       "    <tr style=\"text-align: right;\">\n",
       "      <th></th>\n",
       "      <th>id</th>\n",
       "      <th>nome</th>\n",
       "      <th>super_poder</th>\n",
       "    </tr>\n",
       "  </thead>\n",
       "  <tbody>\n",
       "    <tr>\n",
       "      <th>0</th>\n",
       "      <td>1</td>\n",
       "      <td>Super Man</td>\n",
       "      <td>Forca</td>\n",
       "    </tr>\n",
       "    <tr>\n",
       "      <th>1</th>\n",
       "      <td>2</td>\n",
       "      <td>batman</td>\n",
       "      <td>dinheiro</td>\n",
       "    </tr>\n",
       "  </tbody>\n",
       "</table>\n",
       "</div>"
      ],
      "text/plain": [
       "   id       nome super_poder\n",
       "0   1  Super Man       Forca\n",
       "1   2     batman    dinheiro"
      ]
     },
     "execution_count": 10,
     "metadata": {},
     "output_type": "execute_result"
    }
   ],
   "source": [
    "import pandas as pd\n",
    "\n",
    "dataframe = pd.read_sql(\"\"\"\n",
    "            SELECT * \n",
    "            FROM herois\n",
    "            \"\"\", con = sqlite3.connect('mydatabase.db'))\n",
    "\n",
    "dataframe.head()"
   ]
  },
  {
   "cell_type": "code",
   "execution_count": 13,
   "metadata": {},
   "outputs": [],
   "source": [
    "# create excel file\n",
    "#dataframe.to_excel(\"pandas-excel.xlsx\", sheet_name=\"Nomes\")\n",
    "\n",
    "# create list from dataframe\n",
    "newCells = dataframe.values.tolist()\n",
    "\n"
   ]
  },
  {
   "cell_type": "code",
   "execution_count": 14,
   "metadata": {},
   "outputs": [
    {
     "name": "stdout",
     "output_type": "stream",
     "text": [
      "[['oi', 'b1'], ['bom?', 'b2 haah'], ['a3', 'asdf'], [], [], [], [], [], [], [], [], [], ['dezembro', '190'], ['janeiro', '20']]\n"
     ]
    }
   ],
   "source": [
    "from __future__ import print_function\n",
    "\n",
    "import os.path\n",
    "\n",
    "from google.auth.transport.requests import Request\n",
    "from google.oauth2.credentials import Credentials\n",
    "from google_auth_oauthlib.flow import InstalledAppFlow\n",
    "from googleapiclient.discovery import build\n",
    "from googleapiclient.errors import HttpError\n",
    "\n",
    "# If modifying these scopes, delete the file token.json.\n",
    "SCOPES = ['https://www.googleapis.com/auth/spreadsheets']\n",
    "\n",
    "# The ID and range of a sample spreadsheet.\n",
    "SAMPLE_SPREADSHEET_ID = '1y69j1Dtdlc2efYLLjZHqCBvjHBGsj6nX1uzb4tOq4xw'\n",
    "SAMPLE_RANGE_NAME = 'Página1!A1:E20'\n",
    "\n",
    "\n",
    "def main():\n",
    "    creds = None\n",
    "  \n",
    "    if os.path.exists('token.json'):\n",
    "        creds = Credentials.from_authorized_user_file('token.json', SCOPES)\n",
    "    # If there are no (valid) credentials available, let the user log in.\n",
    "    if not creds or not creds.valid:\n",
    "        if creds and creds.expired and creds.refresh_token:\n",
    "            creds.refresh(Request())\n",
    "        else:\n",
    "            flow = InstalledAppFlow.from_client_secrets_file(\n",
    "                'client_secret.json', SCOPES)\n",
    "            creds = flow.run_local_server(port=0)\n",
    "        # Save the credentials for the next run\n",
    "        with open('token.json', 'w') as token:\n",
    "            token.write(creds.to_json())\n",
    "\n",
    "    try:\n",
    "        service = build('sheets', 'v4', credentials=creds)\n",
    "\n",
    "        # Call the Sheets API\n",
    "        sheet = service.spreadsheets()\n",
    "        result = sheet.values().get(spreadsheetId=SAMPLE_SPREADSHEET_ID,\n",
    "                                    range=SAMPLE_RANGE_NAME).execute()\n",
    "        values = result.get('values', [])\n",
    "\n",
    "        if not values:\n",
    "            print('No data found.')\n",
    "            return\n",
    "        \n",
    "        print (values)\n",
    "\n",
    "        valores_adicionar = newCells\n",
    "\n",
    "        result = sheet.values().update(spreadsheetId=SAMPLE_SPREADSHEET_ID,\n",
    "                                    range='Página1!A13', valueInputOption=\"USER_ENTERED\",\n",
    "                                    body={\"values\": valores_adicionar}).execute()\n",
    "\n",
    "    except HttpError as err:\n",
    "        print(err)\n",
    "\n",
    "\n",
    "main()"
   ]
  },
  {
   "cell_type": "markdown",
   "metadata": {},
   "source": []
  },
  {
   "cell_type": "markdown",
   "metadata": {},
   "source": []
  },
  {
   "cell_type": "markdown",
   "metadata": {},
   "source": []
  }
 ],
 "metadata": {
  "kernelspec": {
   "display_name": "Python 3.9.13 ('jupyter-notebook-56TXd73r')",
   "language": "python",
   "name": "python3"
  },
  "language_info": {
   "codemirror_mode": {
    "name": "ipython",
    "version": 3
   },
   "file_extension": ".py",
   "mimetype": "text/x-python",
   "name": "python",
   "nbconvert_exporter": "python",
   "pygments_lexer": "ipython3",
   "version": "3.9.13"
  },
  "orig_nbformat": 4,
  "vscode": {
   "interpreter": {
    "hash": "536ebcad7eb976b1cb912f8d746e3945e53c82333cbad03b90f6915edd4592af"
   }
  }
 },
 "nbformat": 4,
 "nbformat_minor": 2
}
